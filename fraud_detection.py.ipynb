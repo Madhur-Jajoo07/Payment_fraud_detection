{
 "cells": [
  {
   "cell_type": "markdown",
   "metadata": {
    "isInteractiveWindowMessageCell": true
   },
   "source": [
    "Connected to Python 3.11.6"
   ]
  },
  {
   "cell_type": "code",
   "execution_count": 1,
   "metadata": {},
   "outputs": [],
   "source": [
    "import numpy as np \n",
    "import pandas as pd \n",
    "import  matplotlib.pyplot as plt \n",
    "from sklearn.model_selection import train_test_split \n",
    "from sklearn.preprocessing import StandardScaler\n",
    "from sklearn.metrics import classification_report, accuracy_score, confusion_matrix\n",
    "from sklearn.linear_model import LogisticRegression "
   ]
  },
  {
   "cell_type": "code",
   "execution_count": 2,
   "metadata": {},
   "outputs": [
    {
     "data": {
      "text/html": [
       "<div>\n",
       "<style scoped>\n",
       "    .dataframe tbody tr th:only-of-type {\n",
       "        vertical-align: middle;\n",
       "    }\n",
       "\n",
       "    .dataframe tbody tr th {\n",
       "        vertical-align: top;\n",
       "    }\n",
       "\n",
       "    .dataframe thead th {\n",
       "        text-align: right;\n",
       "    }\n",
       "</style>\n",
       "<table border=\"1\" class=\"dataframe\">\n",
       "  <thead>\n",
       "    <tr style=\"text-align: right;\">\n",
       "      <th></th>\n",
       "      <th>accountAgeDays</th>\n",
       "      <th>numItems</th>\n",
       "      <th>localTime</th>\n",
       "      <th>paymentMethod</th>\n",
       "      <th>paymentMethodAgeDays</th>\n",
       "      <th>label</th>\n",
       "    </tr>\n",
       "  </thead>\n",
       "  <tbody>\n",
       "    <tr>\n",
       "      <th>0</th>\n",
       "      <td>29</td>\n",
       "      <td>1</td>\n",
       "      <td>4.745402</td>\n",
       "      <td>paypal</td>\n",
       "      <td>28.204861</td>\n",
       "      <td>0</td>\n",
       "    </tr>\n",
       "    <tr>\n",
       "      <th>1</th>\n",
       "      <td>725</td>\n",
       "      <td>1</td>\n",
       "      <td>4.742303</td>\n",
       "      <td>storecredit</td>\n",
       "      <td>0.000000</td>\n",
       "      <td>0</td>\n",
       "    </tr>\n",
       "    <tr>\n",
       "      <th>2</th>\n",
       "      <td>845</td>\n",
       "      <td>1</td>\n",
       "      <td>4.921318</td>\n",
       "      <td>creditcard</td>\n",
       "      <td>0.000000</td>\n",
       "      <td>0</td>\n",
       "    </tr>\n",
       "    <tr>\n",
       "      <th>3</th>\n",
       "      <td>503</td>\n",
       "      <td>1</td>\n",
       "      <td>4.886641</td>\n",
       "      <td>creditcard</td>\n",
       "      <td>0.000000</td>\n",
       "      <td>0</td>\n",
       "    </tr>\n",
       "    <tr>\n",
       "      <th>4</th>\n",
       "      <td>2000</td>\n",
       "      <td>1</td>\n",
       "      <td>5.040929</td>\n",
       "      <td>creditcard</td>\n",
       "      <td>0.000000</td>\n",
       "      <td>0</td>\n",
       "    </tr>\n",
       "  </tbody>\n",
       "</table>\n",
       "</div>"
      ],
      "text/plain": [
       "   accountAgeDays  numItems  localTime paymentMethod  paymentMethodAgeDays  \\\n",
       "0              29         1   4.745402        paypal             28.204861   \n",
       "1             725         1   4.742303   storecredit              0.000000   \n",
       "2             845         1   4.921318    creditcard              0.000000   \n",
       "3             503         1   4.886641    creditcard              0.000000   \n",
       "4            2000         1   5.040929    creditcard              0.000000   \n",
       "\n",
       "   label  \n",
       "0      0  \n",
       "1      0  \n",
       "2      0  \n",
       "3      0  \n",
       "4      0  "
      ]
     },
     "execution_count": 2,
     "metadata": {},
     "output_type": "execute_result"
    }
   ],
   "source": [
    "df = pd.read_csv('payment_fraud.csv')\n",
    "df.head()"
   ]
  },
  {
   "cell_type": "code",
   "execution_count": 3,
   "metadata": {},
   "outputs": [
    {
     "data": {
      "text/plain": [
       "accountAgeDays          0\n",
       "numItems                0\n",
       "localTime               0\n",
       "paymentMethod           0\n",
       "paymentMethodAgeDays    0\n",
       "label                   0\n",
       "dtype: int64"
      ]
     },
     "execution_count": 3,
     "metadata": {},
     "output_type": "execute_result"
    }
   ],
   "source": [
    "df.isnull().sum()"
   ]
  },
  {
   "cell_type": "code",
   "execution_count": 4,
   "metadata": {},
   "outputs": [
    {
     "data": {
      "text/plain": [
       "label\n",
       "0    38661\n",
       "1      560\n",
       "Name: count, dtype: int64"
      ]
     },
     "execution_count": 4,
     "metadata": {},
     "output_type": "execute_result"
    },
    {
     "data": {
      "image/png": "[encoded data removed]",
      "text/plain": [
       "<Figure size 500x500 with 1 Axes>"
      ]
     },
     "metadata": {},
     "output_type": "display_data"
    }
   ],
   "source": [
    "paymthd = df.paymentMethod.value_counts()\n",
    "plt.figure(figsize=(5, 5))\n",
    "plt.bar(paymthd.index,paymthd)\n",
    "plt.ylabel('Count')\n",
    "df.label.value_counts()"
   ]
  },
  {
   "cell_type": "code",
   "execution_count": 5,
   "metadata": {},
   "outputs": [
    {
     "name": "stdout",
     "output_type": "stream",
     "text": [
      "   accountAgeDays  numItems  localTime  paymentMethod  paymentMethodAgeDays  \\\n",
      "0              29         1   4.745402              0             28.204861   \n",
      "1             725         1   4.742303              1              0.000000   \n",
      "2             845         1   4.921318              2              0.000000   \n",
      "3             503         1   4.886641              2              0.000000   \n",
      "4            2000         1   5.040929              2              0.000000   \n",
      "\n",
      "   label  \n",
      "0      0  \n",
      "1      0  \n",
      "2      0  \n",
      "3      0  \n",
      "4      0  \n"
     ]
    }
   ],
   "source": [
    "# paymthd_label = {v:k for k, v in enumerate(df.paymentMethod.unique())}\n",
    "paymthd_label, unique_values = pd.factorize(df.paymentMethod)\n",
    "df.paymentMethod =paymthd_label\n",
    "print(df.head())"
   ]
  },
  {
   "cell_type": "code",
   "execution_count": 6,
   "metadata": {},
   "outputs": [
    {
     "name": "stdout",
     "output_type": "stream",
     "text": [
      "       accountAgeDays      numItems     localTime  paymentMethod  \\\n",
      "count    39221.000000  39221.000000  39221.000000   39221.000000   \n",
      "mean       857.563984      1.084751      4.748232       1.476811   \n",
      "std        804.788212      0.566899      0.389360       0.850805   \n",
      "min          1.000000      1.000000      0.421214       0.000000   \n",
      "25%         72.000000      1.000000      4.742303       1.000000   \n",
      "50%        603.000000      1.000000      4.886641       2.000000   \n",
      "75%       1804.000000      1.000000      4.962055       2.000000   \n",
      "max       2000.000000     29.000000      5.040929       2.000000   \n",
      "\n",
      "       paymentMethodAgeDays         label  \n",
      "count          39221.000000  39221.000000  \n",
      "mean             122.641326      0.014278  \n",
      "std              283.569177      0.118636  \n",
      "min                0.000000      0.000000  \n",
      "25%                0.000000      0.000000  \n",
      "50%                0.012500      0.000000  \n",
      "75%               87.510417      0.000000  \n",
      "max             1999.580556      1.000000  \n"
     ]
    },
    {
     "data": {
      "text/html": [
       "<style type=\"text/css\">\n",
       "#T_2216f_row0_col0, #T_2216f_row1_col1, #T_2216f_row2_col2, #T_2216f_row3_col3, #T_2216f_row4_col4, #T_2216f_row5_col5 {\n",
       "  background-color: #023858;\n",
       "  color: #f1f1f1;\n",
       "}\n",
       "#T_2216f_row0_col1 {\n",
       "  background-color: #fef6fb;\n",
       "  color: #000000;\n",
       "}\n",
       "#T_2216f_row0_col2, #T_2216f_row3_col1 {\n",
       "  background-color: #f8f1f8;\n",
       "  color: #000000;\n",
       "}\n",
       "#T_2216f_row0_col3, #T_2216f_row0_col5, #T_2216f_row1_col3, #T_2216f_row2_col1, #T_2216f_row2_col3, #T_2216f_row4_col3, #T_2216f_row5_col0, #T_2216f_row5_col2, #T_2216f_row5_col3, #T_2216f_row5_col4 {\n",
       "  background-color: #fff7fb;\n",
       "  color: #000000;\n",
       "}\n",
       "#T_2216f_row0_col4 {\n",
       "  background-color: #a9bfdc;\n",
       "  color: #000000;\n",
       "}\n",
       "#T_2216f_row1_col0, #T_2216f_row1_col4 {\n",
       "  background-color: #f3edf5;\n",
       "  color: #000000;\n",
       "}\n",
       "#T_2216f_row1_col2, #T_2216f_row2_col4 {\n",
       "  background-color: #fdf5fa;\n",
       "  color: #000000;\n",
       "}\n",
       "#T_2216f_row1_col5 {\n",
       "  background-color: #e7e3f0;\n",
       "  color: #000000;\n",
       "}\n",
       "#T_2216f_row2_col0 {\n",
       "  background-color: #f0eaf4;\n",
       "  color: #000000;\n",
       "}\n",
       "#T_2216f_row2_col5 {\n",
       "  background-color: #f6eff7;\n",
       "  color: #000000;\n",
       "}\n",
       "#T_2216f_row3_col0, #T_2216f_row3_col5 {\n",
       "  background-color: #eee8f3;\n",
       "  color: #000000;\n",
       "}\n",
       "#T_2216f_row3_col2, #T_2216f_row3_col4 {\n",
       "  background-color: #f7f0f7;\n",
       "  color: #000000;\n",
       "}\n",
       "#T_2216f_row4_col0 {\n",
       "  background-color: #99b8d8;\n",
       "  color: #000000;\n",
       "}\n",
       "#T_2216f_row4_col1 {\n",
       "  background-color: #f4eef6;\n",
       "  color: #000000;\n",
       "}\n",
       "#T_2216f_row4_col2 {\n",
       "  background-color: #fbf4f9;\n",
       "  color: #000000;\n",
       "}\n",
       "#T_2216f_row4_col5 {\n",
       "  background-color: #f5eef6;\n",
       "  color: #000000;\n",
       "}\n",
       "#T_2216f_row5_col1 {\n",
       "  background-color: #f4edf6;\n",
       "  color: #000000;\n",
       "}\n",
       "</style>\n",
       "<table id=\"T_2216f\">\n",
       "  <thead>\n",
       "    <tr>\n",
       "      <th class=\"blank level0\" >&nbsp;</th>\n",
       "      <th id=\"T_2216f_level0_col0\" class=\"col_heading level0 col0\" >accountAgeDays</th>\n",
       "      <th id=\"T_2216f_level0_col1\" class=\"col_heading level0 col1\" >numItems</th>\n",
       "      <th id=\"T_2216f_level0_col2\" class=\"col_heading level0 col2\" >localTime</th>\n",
       "      <th id=\"T_2216f_level0_col3\" class=\"col_heading level0 col3\" >paymentMethod</th>\n",
       "      <th id=\"T_2216f_level0_col4\" class=\"col_heading level0 col4\" >paymentMethodAgeDays</th>\n",
       "      <th id=\"T_2216f_level0_col5\" class=\"col_heading level0 col5\" >label</th>\n",
       "    </tr>\n",
       "  </thead>\n",
       "  <tbody>\n",
       "    <tr>\n",
       "      <th id=\"T_2216f_level0_row0\" class=\"row_heading level0 row0\" >accountAgeDays</th>\n",
       "      <td id=\"T_2216f_row0_col0\" class=\"data row0 col0\" >1.000000</td>\n",
       "      <td id=\"T_2216f_row0_col1\" class=\"data row0 col1\" >-0.037562</td>\n",
       "      <td id=\"T_2216f_row0_col2\" class=\"data row0 col2\" >-0.012600</td>\n",
       "      <td id=\"T_2216f_row0_col3\" class=\"data row0 col3\" >0.004047</td>\n",
       "      <td id=\"T_2216f_row0_col4\" class=\"data row0 col4\" >0.330909</td>\n",
       "      <td id=\"T_2216f_row0_col5\" class=\"data row0 col5\" >-0.128098</td>\n",
       "    </tr>\n",
       "    <tr>\n",
       "      <th id=\"T_2216f_level0_row1\" class=\"row_heading level0 row1\" >numItems</th>\n",
       "      <td id=\"T_2216f_row1_col0\" class=\"data row1 col0\" >-0.037562</td>\n",
       "      <td id=\"T_2216f_row1_col1\" class=\"data row1 col1\" >1.000000</td>\n",
       "      <td id=\"T_2216f_row1_col2\" class=\"data row1 col2\" >-0.042563</td>\n",
       "      <td id=\"T_2216f_row1_col3\" class=\"data row1 col3\" >0.004762</td>\n",
       "      <td id=\"T_2216f_row1_col4\" class=\"data row1 col4\" >0.031683</td>\n",
       "      <td id=\"T_2216f_row1_col5\" class=\"data row1 col5\" >0.038116</td>\n",
       "    </tr>\n",
       "    <tr>\n",
       "      <th id=\"T_2216f_level0_row2\" class=\"row_heading level0 row2\" >localTime</th>\n",
       "      <td id=\"T_2216f_row2_col0\" class=\"data row2 col0\" >-0.012600</td>\n",
       "      <td id=\"T_2216f_row2_col1\" class=\"data row2 col1\" >-0.042563</td>\n",
       "      <td id=\"T_2216f_row2_col2\" class=\"data row2 col2\" >1.000000</td>\n",
       "      <td id=\"T_2216f_row2_col3\" class=\"data row2 col3\" >0.001568</td>\n",
       "      <td id=\"T_2216f_row2_col4\" class=\"data row2 col4\" >-0.033076</td>\n",
       "      <td id=\"T_2216f_row2_col5\" class=\"data row2 col5\" >-0.059505</td>\n",
       "    </tr>\n",
       "    <tr>\n",
       "      <th id=\"T_2216f_level0_row3\" class=\"row_heading level0 row3\" >paymentMethod</th>\n",
       "      <td id=\"T_2216f_row3_col0\" class=\"data row3 col0\" >0.004047</td>\n",
       "      <td id=\"T_2216f_row3_col1\" class=\"data row3 col1\" >0.004762</td>\n",
       "      <td id=\"T_2216f_row3_col2\" class=\"data row3 col2\" >0.001568</td>\n",
       "      <td id=\"T_2216f_row3_col3\" class=\"data row3 col3\" >1.000000</td>\n",
       "      <td id=\"T_2216f_row3_col4\" class=\"data row3 col4\" >0.001731</td>\n",
       "      <td id=\"T_2216f_row3_col5\" class=\"data row3 col5\" >0.003533</td>\n",
       "    </tr>\n",
       "    <tr>\n",
       "      <th id=\"T_2216f_level0_row4\" class=\"row_heading level0 row4\" >paymentMethodAgeDays</th>\n",
       "      <td id=\"T_2216f_row4_col0\" class=\"data row4 col0\" >0.330909</td>\n",
       "      <td id=\"T_2216f_row4_col1\" class=\"data row4 col1\" >0.031683</td>\n",
       "      <td id=\"T_2216f_row4_col2\" class=\"data row4 col2\" >-0.033076</td>\n",
       "      <td id=\"T_2216f_row4_col3\" class=\"data row4 col3\" >0.001731</td>\n",
       "      <td id=\"T_2216f_row4_col4\" class=\"data row4 col4\" >1.000000</td>\n",
       "      <td id=\"T_2216f_row4_col5\" class=\"data row4 col5\" >-0.052047</td>\n",
       "    </tr>\n",
       "    <tr>\n",
       "      <th id=\"T_2216f_level0_row5\" class=\"row_heading level0 row5\" >label</th>\n",
       "      <td id=\"T_2216f_row5_col0\" class=\"data row5 col0\" >-0.128098</td>\n",
       "      <td id=\"T_2216f_row5_col1\" class=\"data row5 col1\" >0.038116</td>\n",
       "      <td id=\"T_2216f_row5_col2\" class=\"data row5 col2\" >-0.059505</td>\n",
       "      <td id=\"T_2216f_row5_col3\" class=\"data row5 col3\" >0.003533</td>\n",
       "      <td id=\"T_2216f_row5_col4\" class=\"data row5 col4\" >-0.052047</td>\n",
       "      <td id=\"T_2216f_row5_col5\" class=\"data row5 col5\" >1.000000</td>\n",
       "    </tr>\n",
       "  </tbody>\n",
       "</table>\n"
      ],
      "text/plain": [
       "<pandas.io.formats.style.Styler at 0x26dad1383d0>"
      ]
     },
     "execution_count": 6,
     "metadata": {},
     "output_type": "execute_result"
    }
   ],
   "source": [
    "print(df.describe())\n",
    "corr = df.corr()\n",
    "corr.style.background_gradient()"
   ]
  },
  {
   "cell_type": "code",
   "execution_count": 7,
   "metadata": {},
   "outputs": [],
   "source": [
    "x = df.iloc[:, :-1].values\n",
    "y = df.iloc[:, -1].values\n",
    "sc = StandardScaler()\n",
    "X = sc.fit_transform(x)"
   ]
  },
  {
   "cell_type": "code",
   "execution_count": 8,
   "metadata": {},
   "outputs": [],
   "source": [
    "x_train, x_test, y_train, y_test = train_test_split(x, y, test_size=0.25, random_state=42)\n",
    "# print(\"X_train shape: \", x_train.shape)\n",
    "# print(\"X_test shape: \", x_test.shape)\n",
    "# print(\"y_train shape: \", y_train.shape)\n",
    "# print(\"y_test shape: \", y_test.shape)"
   ]
  },
  {
   "cell_type": "code",
   "execution_count": 9,
   "metadata": {},
   "outputs": [
    {
     "data": {
      "text/html": [
       "<style>#sk-container-id-1 {color: black;}#sk-container-id-1 pre{padding: 0;}#sk-container-id-1 div.sk-toggleable {background-color: white;}#sk-container-id-1 label.sk-toggleable__label {cursor: pointer;display: block;width: 100%;margin-bottom: 0;padding: 0.3em;box-sizing: border-box;text-align: center;}#sk-container-id-1 label.sk-toggleable__label-arrow:before {content: \"▸\";float: left;margin-right: 0.25em;color: #696969;}#sk-container-id-1 label.sk-toggleable__label-arrow:hover:before {color: black;}#sk-container-id-1 div.sk-estimator:hover label.sk-toggleable__label-arrow:before {color: black;}#sk-container-id-1 div.sk-toggleable__content {max-height: 0;max-width: 0;overflow: hidden;text-align: left;background-color: #f0f8ff;}#sk-container-id-1 div.sk-toggleable__content pre {margin: 0.2em;color: black;border-radius: 0.25em;background-color: #f0f8ff;}#sk-container-id-1 input.sk-toggleable__control:checked~div.sk-toggleable__content {max-height: 200px;max-width: 100%;overflow: auto;}#sk-container-id-1 input.sk-toggleable__control:checked~label.sk-toggleable__label-arrow:before {content: \"▾\";}#sk-container-id-1 div.sk-estimator input.sk-toggleable__control:checked~label.sk-toggleable__label {background-color: #d4ebff;}#sk-container-id-1 div.sk-label input.sk-toggleable__control:checked~label.sk-toggleable__label {background-color: #d4ebff;}#sk-container-id-1 input.sk-hidden--visually {border: 0;clip: rect(1px 1px 1px 1px);clip: rect(1px, 1px, 1px, 1px);height: 1px;margin: -1px;overflow: hidden;padding: 0;position: absolute;width: 1px;}#sk-container-id-1 div.sk-estimator {font-family: monospace;background-color: #f0f8ff;border: 1px dotted black;border-radius: 0.25em;box-sizing: border-box;margin-bottom: 0.5em;}#sk-container-id-1 div.sk-estimator:hover {background-color: #d4ebff;}#sk-container-id-1 div.sk-parallel-item::after {content: \"\";width: 100%;border-bottom: 1px solid gray;flex-grow: 1;}#sk-container-id-1 div.sk-label:hover label.sk-toggleable__label {background-color: #d4ebff;}#sk-container-id-1 div.sk-serial::before {content: \"\";position: absolute;border-left: 1px solid gray;box-sizing: border-box;top: 0;bottom: 0;left: 50%;z-index: 0;}#sk-container-id-1 div.sk-serial {display: flex;flex-direction: column;align-items: center;background-color: white;padding-right: 0.2em;padding-left: 0.2em;position: relative;}#sk-container-id-1 div.sk-item {position: relative;z-index: 1;}#sk-container-id-1 div.sk-parallel {display: flex;align-items: stretch;justify-content: center;background-color: white;position: relative;}#sk-container-id-1 div.sk-item::before, #sk-container-id-1 div.sk-parallel-item::before {content: \"\";position: absolute;border-left: 1px solid gray;box-sizing: border-box;top: 0;bottom: 0;left: 50%;z-index: -1;}#sk-container-id-1 div.sk-parallel-item {display: flex;flex-direction: column;z-index: 1;position: relative;background-color: white;}#sk-container-id-1 div.sk-parallel-item:first-child::after {align-self: flex-end;width: 50%;}#sk-container-id-1 div.sk-parallel-item:last-child::after {align-self: flex-start;width: 50%;}#sk-container-id-1 div.sk-parallel-item:only-child::after {width: 0;}#sk-container-id-1 div.sk-dashed-wrapped {border: 1px dashed gray;margin: 0 0.4em 0.5em 0.4em;box-sizing: border-box;padding-bottom: 0.4em;background-color: white;}#sk-container-id-1 div.sk-label label {font-family: monospace;font-weight: bold;display: inline-block;line-height: 1.2em;}#sk-container-id-1 div.sk-label-container {text-align: center;}#sk-container-id-1 div.sk-container {/* jupyter's `normalize.less` sets `[hidden] { display: none; }` but bootstrap.min.css set `[hidden] { display: none !important; }` so we also need the `!important` here to be able to override the default hidden behavior on the sphinx rendered scikit-learn.org. See: https://github.com/scikit-learn/scikit-learn/issues/21755 */display: inline-block !important;position: relative;}#sk-container-id-1 div.sk-text-repr-fallback {display: none;}</style><div id=\"sk-container-id-1\" class=\"sk-top-container\"><div class=\"sk-text-repr-fallback\"><pre>LogisticRegression()</pre><b>In a Jupyter environment, please rerun this cell to show the HTML representation or trust the notebook. <br />On GitHub, the HTML representation is unable to render, please try loading this page with nbviewer.org.</b></div><div class=\"sk-container\" hidden><div class=\"sk-item\"><div class=\"sk-estimator sk-toggleable\"><input class=\"sk-toggleable__control sk-hidden--visually\" id=\"sk-estimator-id-1\" type=\"checkbox\" checked><label for=\"sk-estimator-id-1\" class=\"sk-toggleable__label sk-toggleable__label-arrow\">LogisticRegression</label><div class=\"sk-toggleable__content\"><pre>LogisticRegression()</pre></div></div></div></div></div>"
      ],
      "text/plain": [
       "LogisticRegression()"
      ]
     },
     "execution_count": 9,
     "metadata": {},
     "output_type": "execute_result"
    }
   ],
   "source": [
    "lg = LogisticRegression()\n",
    "lg.fit(x_train, y_train)"
   ]
  },
  {
   "cell_type": "code",
   "execution_count": 10,
   "metadata": {},
   "outputs": [
    {
     "name": "stdout",
     "output_type": "stream",
     "text": [
      "accuracy score:-  1.0\n",
      "              precision    recall  f1-score   support\n",
      "\n",
      "           0       1.00      1.00      1.00      9664\n",
      "           1       1.00      1.00      1.00       142\n",
      "\n",
      "    accuracy                           1.00      9806\n",
      "   macro avg       1.00      1.00      1.00      9806\n",
      "weighted avg       1.00      1.00      1.00      9806\n",
      "\n"
     ]
    }
   ],
   "source": [
    "pred = lg.predict(x_test)\n",
    "print(\"accuracy score:- \" ,accuracy_score(y_test, pred))\n",
    "print(classification_report(y_test, pred))"
   ]
  }
 ],
 "metadata": {
  "kernelspec": {
   "display_name": "Python 3",
   "language": "python",
   "name": "python3"
  },
  "language_info": {
   "name": "python",
   "version": "3.11.6"
  }
 },
 "nbformat": 4,
 "nbformat_minor": 2
}
